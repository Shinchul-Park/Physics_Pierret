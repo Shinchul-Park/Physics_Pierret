{
 "cells": [
  {
   "cell_type": "markdown",
   "id": "154db34e-d62c-49c9-9d42-25d8a6abd6cf",
   "metadata": {},
   "source": [
    "## for"
   ]
  },
  {
   "cell_type": "code",
   "execution_count": 1,
   "id": "ba9ac9c9-6bb3-43fd-a0ee-b98e61569fa3",
   "metadata": {},
   "outputs": [],
   "source": [
    "# A=[a,b,c,d]의 배열 혹은 순회 가능한(iterable) 객체는 \n",
    "# for i in A: Dpbr=i+1 라고 할 때, A의 원소를 사용하는 것이다.\n",
    "# 또한 for i in [a,b,c,d] 처럼, Dpbr=i+1에서도 원소를 사용하는 것이다.\n",
    "# 하지만 Dpbr=A[i]+1처럼 사용할 경우, 배열의 index를 사용하기 때문에, \n",
    "# 두개가 호환됮 않는다. 이럴 때는 for문 앞에 배열을 넣을 수 있는 Dpbr=np.zerods(len(A))를 넣어 주어야 한다."
   ]
  },
  {
   "cell_type": "code",
   "execution_count": null,
   "id": "05f92180-9074-47f8-aab4-752ccfa2c269",
   "metadata": {},
   "outputs": [],
   "source": []
  }
 ],
 "metadata": {
  "kernelspec": {
   "display_name": "Python 3 (ipykernel)",
   "language": "python",
   "name": "python3"
  },
  "language_info": {
   "codemirror_mode": {
    "name": "ipython",
    "version": 3
   },
   "file_extension": ".py",
   "mimetype": "text/x-python",
   "name": "python",
   "nbconvert_exporter": "python",
   "pygments_lexer": "ipython3",
   "version": "3.12.6"
  }
 },
 "nbformat": 4,
 "nbformat_minor": 5
}
