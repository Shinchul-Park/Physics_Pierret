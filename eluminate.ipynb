{
 "cells": [
  {
   "cell_type": "code",
   "execution_count": 1,
   "id": "baa78177-6dfa-49f5-a983-839e5fc0e622",
   "metadata": {},
   "outputs": [
    {
     "name": "stdout",
     "output_type": "stream",
     "text": [
      "A\n",
      "B\n",
      "C\n"
     ]
    }
   ],
   "source": [
    "for letter in ['A', 'B', 'C']:\n",
    "    print(letter)"
   ]
  },
  {
   "cell_type": "code",
   "execution_count": 5,
   "id": "387c6dff-2193-4a07-8942-9c458a2e691f",
   "metadata": {},
   "outputs": [
    {
     "name": "stdout",
     "output_type": "stream",
     "text": [
      "0 A\n",
      "1 B\n",
      "2 C\n"
     ]
    }
   ],
   "source": [
    "i = 0\n",
    "for letter in ['A', 'B', 'C']:\n",
    "    print(i, letter)\n",
    "    i += 1\n",
    "    #이 방법이 틀린 것은 아니지만, i 변수가 for 반복문이 종료된 이 후에도 네임 스페이스에 남아있기 때문에 이상적이지는 않습니다.\n",
    "    # i=0을 지워도, 계속 이어서 i에 들어가게 된다."
   ]
  },
  {
   "cell_type": "code",
   "execution_count": 10,
   "id": "d73edb23-ee44-480a-8466-6b4072fb91f4",
   "metadata": {},
   "outputs": [
    {
     "name": "stdout",
     "output_type": "stream",
     "text": [
      "0 A\n",
      "1 B\n",
      "2 C\n"
     ]
    }
   ],
   "source": [
    "letters = ['A', 'B', 'C']\n",
    "for i in range(len(letters)):\n",
    "    letter = letters[i]\n",
    "    print(i, letter)\n",
    "    #여기서 원소 뿐만 아니라 인덱스(index)도 함께 출력하고 싶을 때는 어떻게 해야 할까요? 이 부분은 다른 프로그래밍 언어를 사용하시다가 파이썬으로 넘어오신 분들이 처음에 흔히 하는 \n",
    "    #질문이기도 한데요.\n",
    "    #이 방법은 이전 방법보다는 나아보이지만, 파이썬 커뮤니티에서는 이러한 코드를 소위 파이썬 답지(Pythonic) 않아 보인다고 합니다.\n",
    "    #또 다른 방법으로는 range()와 len() 내장 함수를 이용하여 만든 인덱스 목록을 대상으로 루프를 돌리는 것입니다"
   ]
  },
  {
   "cell_type": "code",
   "execution_count": 12,
   "id": "07c1843c-d545-48dc-af71-649e031b7bc7",
   "metadata": {},
   "outputs": [
    {
     "name": "stdout",
     "output_type": "stream",
     "text": [
      "0 A\n",
      "1 B\n",
      "2 C\n"
     ]
    }
   ],
   "source": [
    "letters = ['A', 'B', 'C']\n",
    "for i in range(len(letters)):\n",
    "    letter = letters[i]\n",
    "    print(i, letter)\n",
    "    #이 방법은 이전 방법보다는 나아보이지만, 파이썬 커뮤니티에서는 이러한 코드를 소위 파이썬 답지(Pythonic) 않아 보인다고 합니다.\n",
    "    #그럼 어떻게 해야 좀 더 파이썬답게 인덱스(index)와 원소를 동시에 접근하면서 루프를 돌릴 수가 있을까요?"
   ]
  },
  {
   "cell_type": "code",
   "execution_count": 14,
   "id": "c12d5e44-f570-4522-8fa2-a9b4e5919498",
   "metadata": {},
   "outputs": [
    {
     "name": "stdout",
     "output_type": "stream",
     "text": [
      "(0, 'A')\n",
      "(1, 'B')\n",
      "(2, 'C')\n"
     ]
    }
   ],
   "source": [
    "#바로 파이썬의 내장 함수인 enumerate()를 이용하면 되는데요. for 문의 in 뒷 부분을 enumerate() 함수로 한 번 감싸주기만 하면 됩니다.\n",
    "for entry in enumerate(['A', 'B', 'C']): \n",
    "    print(entry)\n",
    "    #enumerate() 함수는 기본적으로 인덱스와 원소로 이루어진 튜플(tuple)을 만들어줍니다. \n",
    "    #따라서 인덱스와 원소를 각각 다른 변수에 할당하고 싶다면 인자 풀기(unpacking)를 해줘야 합니다."
   ]
  },
  {
   "cell_type": "code",
   "execution_count": 15,
   "id": "cf3a649a-a97e-4fe3-a822-e4378508f30b",
   "metadata": {},
   "outputs": [
    {
     "name": "stdout",
     "output_type": "stream",
     "text": [
      "0 A\n",
      "1 B\n",
      "2 C\n"
     ]
    }
   ],
   "source": [
    "for i, letter in enumerate(['A', 'B', 'C']):\n",
    "    print(i, letter)"
   ]
  },
  {
   "cell_type": "code",
   "execution_count": 16,
   "id": "1d2d11dd-6838-4974-8283-19fad1e28a61",
   "metadata": {},
   "outputs": [
    {
     "name": "stdout",
     "output_type": "stream",
     "text": [
      "1 A\n",
      "2 B\n",
      "3 C\n"
     ]
    }
   ],
   "source": [
    "#루프를 돌리다보면 인덱스를 0이 아니라, 1로 시작하고 싶을 때가 있습니다. 이럴 때는 enumerate() 함수를 호출할 때 start 인자에 시작하고 싶은 숫자를 넘기면 됩니다.\n",
    "for i, letter in enumerate(['A', 'B', 'C'], start=1):\n",
    "    print(i, letter)"
   ]
  },
  {
   "cell_type": "code",
   "execution_count": 17,
   "id": "66010a22-1629-4bf0-97a6-11920f311205",
   "metadata": {},
   "outputs": [
    {
     "name": "stdout",
     "output_type": "stream",
     "text": [
      "101 A\n",
      "102 B\n",
      "103 C\n"
     ]
    }
   ],
   "source": [
    "for i, letter in enumerate(['A', 'B', 'C'], start=101):\n",
    "    print(i, letter)"
   ]
  },
  {
   "cell_type": "code",
   "execution_count": 19,
   "id": "77751f74-ffc4-4bc3-aa51-94a4d83c979c",
   "metadata": {},
   "outputs": [
    {
     "name": "stdout",
     "output_type": "stream",
     "text": [
      "0 0 A\n",
      "0 1 B\n",
      "0 2 C\n",
      "1 0 D\n",
      "1 1 E\n",
      "1 2 F\n"
     ]
    }
   ],
   "source": [
    "#아래와 같은 2차원 리스트나 튜플이 담고 있는 데이터를 루프를 돌면서 접근해야한다고 가정해봅시다.\n",
    "#matrix = [['A', 'B', 'C'], ['D', 'E', 'F'], ['G', 'H', 'I']]\n",
    "matrix = [['A', 'B', 'C'], ['D', 'E', 'F']]\n",
    "for r in range(len(matrix)):\n",
    "    for c in range(len(matrix[r])):\n",
    "        print(r, c, matrix[r][c])"
   ]
  },
  {
   "cell_type": "code",
   "execution_count": 20,
   "id": "065502ef-284e-4c6d-8646-ddb4773970d9",
   "metadata": {},
   "outputs": [
    {
     "name": "stdout",
     "output_type": "stream",
     "text": [
      "0 0 A\n",
      "0 1 B\n",
      "0 2 C\n",
      "1 0 D\n",
      "1 1 E\n",
      "1 2 F\n"
     ]
    }
   ],
   "source": [
    "#동일한 작업을 하는 코드를 enumerate() 함수를 이용해서 재작성하면 어떨까요?\n",
    "for r, row in enumerate(matrix):\n",
    "    for c, letter in enumerate(row):\n",
    "        print(r, c, letter)"
   ]
  },
  {
   "cell_type": "markdown",
   "id": "3463bad0-0f2f-444e-8293-184ba06568b8",
   "metadata": {},
   "source": [
    "예제 코드에서는 단순히 데이터를 출력만 하기 때문에 큰 차이를 못 느낄 수도 있지만, 실제 프로젝트에서 좀 더 복잡한 작업을 하는 경우라면 차이가 더 크게 날 거에요. 무엇보다도 2차원 배열을 다룰 때 인덱스를 사용하면 오타를 내기 쉬운데, enumerate() 함수를 사용하면 이러한 실수를 할 확률이 현저하게 줄어듭니다."
   ]
  },
  {
   "cell_type": "code",
   "execution_count": null,
   "id": "8874f9c6-17dc-4f32-aaf7-0ef8cb1817ae",
   "metadata": {},
   "outputs": [],
   "source": []
  }
 ],
 "metadata": {
  "kernelspec": {
   "display_name": "Python 3 (ipykernel)",
   "language": "python",
   "name": "python3"
  },
  "language_info": {
   "codemirror_mode": {
    "name": "ipython",
    "version": 3
   },
   "file_extension": ".py",
   "mimetype": "text/x-python",
   "name": "python",
   "nbconvert_exporter": "python",
   "pygments_lexer": "ipython3",
   "version": "3.12.6"
  }
 },
 "nbformat": 4,
 "nbformat_minor": 5
}
