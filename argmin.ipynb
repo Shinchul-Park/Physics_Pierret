{
 "cells": [
  {
   "cell_type": "code",
   "execution_count": null,
   "id": "4bb1f2cb-aaae-4ed7-bd2e-b4ebede9776a",
   "metadata": {},
   "outputs": [],
   "source": []
  },
  {
   "cell_type": "markdown",
   "id": "20540c2f-2071-42db-b4c1-41ba53e410e0",
   "metadata": {},
   "source": [
    "np.argmin()을 사용하여 phif와 가장 가까운 psis 값을 찾도록 변경할 수 있습니다.\n",
    "기존 코드는 psis 값이 phif를 초과하는(또는 이하인) 첫 번째 인덱스를 찾는 방식이었습니다.\n",
    "하지만, argmin()을 사용하면 phif와 가장 가까운 값을 직접 찾을 수 있어 더 정확합니다."
   ]
  },
  {
   "cell_type": "code",
   "execution_count": 1,
   "id": "737fd097-214b-4e6d-9902-241dea4d532a",
   "metadata": {},
   "outputs": [
    {
     "name": "stdout",
     "output_type": "stream",
     "text": [
      "index_closest: 2\n",
      "Selected indices: [0 1]\n"
     ]
    }
   ],
   "source": [
    "\n",
    "import numpy as np\n",
    "\n",
    "psis = np.array([-0.1, 0.2, 0.5, 0.8, 1.2])\n",
    "phif = 0.41\n",
    "device_type = \"NMOS\"  # 또는 \"PMOS\"\n",
    "\n",
    "index_closest = np.argmin(np.abs(psis - phif))\n",
    "selector = np.arange(index_closest) if device_type == \"NMOS\" else np.arange(index_closest, len(psis))\n",
    "\n",
    "print(\"index_closest:\", index_closest)\n",
    "print(\"Selected indices:\", selector)\n"
   ]
  },
  {
   "cell_type": "markdown",
   "id": "210799e9-953a-40f3-929e-7ad753ed7190",
   "metadata": {},
   "source": [
    "np.abs(psis - phif):\\\n",
    "psis 배열에서 phif와의 차이를 계산합니다.\\\n",
    "np.argmin(...):\\\n",
    "phif와의 차이가 가장 작은 인덱스를 찾습니다.\\\n",
    "selector:\\\n",
    "NMOS이면 약한 반전 이하의 psis 값들(0부터 index_closest) 선택\\\n",
    "PMOS이면 약한 반전 이상의 psis 값들(index_closest부터 끝까지) 선택"
   ]
  },
  {
   "cell_type": "markdown",
   "id": "88198ffb-e517-4738-90ee-4a6b3571b145",
   "metadata": {},
   "source": [
    "🔹 실행 결과 (device_type=\"NMOS\")\n",
    "\n",
    "psis[2] = 0.5가 phif = 0.41과 가장 가까운 값이므로, 0, 1번 인덱스가 선택됨\n",
    "\n"
   ]
  },
  {
   "cell_type": "markdown",
   "id": "81b81ae8-4669-4504-9422-96edd1c69428",
   "metadata": {},
   "source": [
    "🔹 실행 결과 (device_type=\"PMOS\")\\\n",
    "psis[2] = 0.5부터 끝까지 선택됨.\n",
    "index_closest: 2\n",
    "Selected indices: [2 3 4]"
   ]
  },
  {
   "cell_type": "code",
   "execution_count": null,
   "id": "74043559-ef74-4f18-a48b-904070cc3c56",
   "metadata": {},
   "outputs": [],
   "source": []
  }
 ],
 "metadata": {
  "kernelspec": {
   "display_name": "Python 3 (ipykernel)",
   "language": "python",
   "name": "python3"
  },
  "language_info": {
   "codemirror_mode": {
    "name": "ipython",
    "version": 3
   },
   "file_extension": ".py",
   "mimetype": "text/x-python",
   "name": "python",
   "nbconvert_exporter": "python",
   "pygments_lexer": "ipython3",
   "version": "3.12.6"
  }
 },
 "nbformat": 4,
 "nbformat_minor": 5
}
